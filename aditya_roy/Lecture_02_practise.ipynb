{
  "nbformat": 4,
  "nbformat_minor": 0,
  "metadata": {
    "colab": {
      "provenance": [],
      "authorship_tag": "ABX9TyO2cuDFeHldR5yIq97mTbS3",
      "include_colab_link": true
    },
    "kernelspec": {
      "name": "python3",
      "display_name": "Python 3"
    },
    "language_info": {
      "name": "python"
    }
  },
  "cells": [
    {
      "cell_type": "markdown",
      "metadata": {
        "id": "view-in-github",
        "colab_type": "text"
      },
      "source": [
        "<a href=\"https://colab.research.google.com/github/arclive202/statistical_rethinking/blob/main/aditya_roy/Lecture_02_practise.ipynb\" target=\"_parent\"><img src=\"https://colab.research.google.com/assets/colab-badge.svg\" alt=\"Open In Colab\"/></a>"
      ]
    },
    {
      "cell_type": "markdown",
      "source": [
        "Trying to replicate concepts from https://www.youtube.com/watch?v=R1vcdhPBlXA&list=PLDcUM9US4XdPz-KxHM4XHt7uUVGWWVSus&index=2&t=565s\n",
        "\n",
        "\n",
        "\n",
        "Using the globe example to understand the concepts of generative function, number of observations of w & l and to estimate the probability of the proportions given the observations\n",
        "  "
      ],
      "metadata": {
        "id": "1_NLIaAqxLLE"
      }
    },
    {
      "cell_type": "code",
      "execution_count": 23,
      "metadata": {
        "id": "Q_kp_h4TxDju"
      },
      "outputs": [],
      "source": [
        "# prompt: define a function that accepts an array obs and a float value p\n",
        "# and calculates pw = count of 1 is obs\n",
        "# pl = len(obs) - pw\n",
        "# and returns pw**p * pl**(1-p)\n",
        "\n",
        "\n",
        "# THIS BIT OF CODE HERE IS THE ESTIMATOR\n",
        "\n",
        "def proportion_probability(obs, p):\n",
        "    \"\"\"\n",
        "    Calculates pw**p * pl**(1-p) based on the input array obs and probability p.\n",
        "\n",
        "    Args:\n",
        "        obs: A list or array of observations (assumed to be 0s and 1s).\n",
        "        p: The probability value (a float between 0 and 1).\n",
        "\n",
        "    Returns:\n",
        "        The calculated probability value, or None if input is invalid.\n",
        "    \"\"\"\n",
        "    pw = obs.count(1)  # Count of 1s in obs\n",
        "    pl = len(obs) - pw   # Count of elements other than 1s\n",
        "\n",
        "    if pw < 0 or pl < 0:\n",
        "        return None  # Handle cases with invalid input\n",
        "\n",
        "    try:\n",
        "      result = ((p**pw) * ((1-p)**pl))\n",
        "      return result\n",
        "    except OverflowError:\n",
        "      return float('inf') # Handle potential overflow for large inputs\n"
      ]
    },
    {
      "cell_type": "code",
      "source": [
        "proportion_probability([1,0,1],0.5)"
      ],
      "metadata": {
        "colab": {
          "base_uri": "https://localhost:8080/"
        },
        "id": "AlR1rr1zypcO",
        "outputId": "c8fac528-e842-40b8-e2b3-7b07aadcf0fc"
      },
      "execution_count": 24,
      "outputs": [
        {
          "output_type": "execute_result",
          "data": {
            "text/plain": [
              "0.125"
            ]
          },
          "metadata": {},
          "execution_count": 24
        }
      ]
    },
    {
      "cell_type": "code",
      "source": [
        "\n",
        "def p_prob_array(obs, p_array):\n",
        "    \"\"\"\n",
        "    Calculates the proportion probability for each element in p_array.\n",
        "\n",
        "    Args:\n",
        "      p_array: A list of observations (arrays).\n",
        "      p: The probability value.\n",
        "\n",
        "    Returns:\n",
        "      A list of proportion probabilities.\n",
        "    \"\"\"\n",
        "    results = []\n",
        "    for p in p_array:\n",
        "        results.append(proportion_probability(obs, p))\n",
        "    return results"
      ],
      "metadata": {
        "id": "kOygfs-8ym8N"
      },
      "execution_count": 26,
      "outputs": []
    },
    {
      "cell_type": "code",
      "source": [
        "prob_list = p_prob_array([1,0,1],[0,0.25,0.5,0.75,1])"
      ],
      "metadata": {
        "id": "slWRLTlO0vaT"
      },
      "execution_count": 28,
      "outputs": []
    },
    {
      "cell_type": "code",
      "source": [
        "# prompt: plot prob_list in a barplot with x axis as p_ARRAY and y axis as prob_list\n",
        "\n",
        "import matplotlib.pyplot as plt\n",
        "import numpy as np\n",
        "\n",
        "# Assuming prob_list and p_array are defined as in your previous code\n",
        "obs=[1,0,1]\n",
        "p_array = [0,0.25,0.5,0.75,1]\n",
        "# prob_list = p_prob_array([1,0,1],[0,0.25,0.5,0.75,1])\n",
        "\n",
        "n_possible_probabilities = p_prob_array(obs, p_array)\n",
        "RESOLUTION = 4\n",
        "probs = np.linspace(0, 1, RESOLUTION+1)\n",
        "plt.subplots(figsize=(5, 5))\n",
        "plt.bar(x=p_array, height=n_possible_probabilities, width= .7 / RESOLUTION, color='k')\n",
        "plt.xticks(probs);\n",
        "plt.ylabel(\"probability\")\n",
        "plt.xlabel(\"proportion water\");"
      ],
      "metadata": {
        "colab": {
          "base_uri": "https://localhost:8080/",
          "height": 465
        },
        "id": "Iuw9nK1n1OnN",
        "outputId": "4e07892a-1d19-4531-d1f4-62b80570ef34"
      },
      "execution_count": 37,
      "outputs": [
        {
          "output_type": "display_data",
          "data": {
            "text/plain": [
              "<Figure size 500x500 with 1 Axes>"
            ],
            "image/png": "[encoded data removed]"
          },
          "metadata": {}
        }
      ]
    },
    {
      "cell_type": "code",
      "source": [
        "p_prob_array(obs, p_array)"
      ],
      "metadata": {
        "colab": {
          "base_uri": "https://localhost:8080/"
        },
        "id": "fNT7I3tj1ms5",
        "outputId": "dd0d530d-841d-4102-e935-546d4b6b61da"
      },
      "execution_count": 35,
      "outputs": [
        {
          "output_type": "execute_result",
          "data": {
            "text/plain": [
              "[0, 0.046875, 0.125, 0.140625, 0]"
            ]
          },
          "metadata": {},
          "execution_count": 35
        }
      ]
    },
    {
      "cell_type": "code",
      "source": [
        "n_possible_probabilities"
      ],
      "metadata": {
        "colab": {
          "base_uri": "https://localhost:8080/"
        },
        "id": "pz-NuaJ72O6k",
        "outputId": "6d4cbe5f-7e8f-43b3-8963-c8a81c2a4821"
      },
      "execution_count": 36,
      "outputs": [
        {
          "output_type": "execute_result",
          "data": {
            "text/plain": [
              "[0, 0.046875, 0.125, 0.140625, 0]"
            ]
          },
          "metadata": {},
          "execution_count": 36
        }
      ]
    },
    {
      "cell_type": "code",
      "source": [],
      "metadata": {
        "id": "M2jZ262F6G34"
      },
      "execution_count": null,
      "outputs": []
    },
    {
      "cell_type": "markdown",
      "source": [
        "There are generally 3 important steps\n",
        "\n",
        "1. code the generative function\n",
        "2. code an estimator\n",
        "3. test (2) with (1)\n",
        "\n",
        "define a sampling function\n",
        "generative simulation\n",
        "\n",
        "-- given a probability of globe covered with water, and total number of tosses\n",
        "this function will define a sample for observation\n"
      ],
      "metadata": {
        "id": "SBCe-CjF6JVK"
      }
    },
    {
      "cell_type": "code",
      "source": [
        "# prompt: write a function to generate a sample of list of 0 or 1 given the probability of 1 as p and the length of list as n_tosses\n",
        "\n",
        "import random\n",
        "\n",
        "def sample_globe_tosses(p, n_tosses):\n",
        "    \"\"\"\n",
        "    Generates a sample list of 0s and 1s based on probability p and number of tosses n_tosses.\n",
        "\n",
        "    Args:\n",
        "        p: The probability of getting a 1.\n",
        "        n_tosses: The number of tosses (length of the list).\n",
        "\n",
        "    Returns:\n",
        "        A list of 0s and 1s representing the sample.\n",
        "    \"\"\"\n",
        "    sample = []\n",
        "    for _ in range(n_tosses):\n",
        "        if random.random() < p:\n",
        "            sample.append(1)\n",
        "        else:\n",
        "            sample.append(0)\n",
        "    return sample"
      ],
      "metadata": {
        "id": "cdxGl2g37J6H"
      },
      "execution_count": 38,
      "outputs": []
    },
    {
      "cell_type": "markdown",
      "source": [
        "CODING THE ESTIMATOR IS THE SAME AS THE TWO FUNCTIONS DEFINED ABOVE"
      ],
      "metadata": {
        "id": "4o2hJaUoACJ5"
      }
    },
    {
      "cell_type": "code",
      "source": [
        "def proportion_probability(obs, p):\n",
        "    \"\"\"\n",
        "    Calculates pw**p * pl**(1-p) based on the input array obs and probability p.\n",
        "\n",
        "    Args:\n",
        "        obs: A list or array of observations (assumed to be 0s and 1s).\n",
        "        p: The probability value (a float between 0 and 1).\n",
        "\n",
        "    Returns:\n",
        "        The calculated probability value, or None if input is invalid.\n",
        "    \"\"\"\n",
        "    pw = obs.count(1)  # Count of 1s in obs\n",
        "    pl = len(obs) - pw   # Count of elements other than 1s\n",
        "\n",
        "    if pw < 0 or pl < 0:\n",
        "        return None  # Handle cases with invalid input\n",
        "\n",
        "    try:\n",
        "      result = ((p**pw) * ((1-p)**pl))\n",
        "      return result\n",
        "    except OverflowError:\n",
        "      return float('inf') # Handle potential overflow for large inputs\n",
        "\n",
        "\n",
        "\n",
        "\n",
        "def p_prob_array(obs, p_array):\n",
        "    \"\"\"\n",
        "    Calculates the proportion probability for each element in p_array.\n",
        "\n",
        "    Args:\n",
        "      p_array: A list of observations (arrays).\n",
        "      p: The probability value.\n",
        "\n",
        "    Returns:\n",
        "      A list of proportion probabilities.\n",
        "    \"\"\"\n",
        "    results = []\n",
        "    for p in p_array:\n",
        "        results.append(proportion_probability(obs, p))\n",
        "    return results\n"
      ],
      "metadata": {
        "id": "-MHQtgUfABIr"
      },
      "execution_count": 83,
      "outputs": []
    },
    {
      "cell_type": "code",
      "source": [
        "def plot_posterior(p_array, n_possible_probabilities):\n",
        "  RESOLUTION = 4\n",
        "  probs = np.linspace(0, 1, RESOLUTION+1)\n",
        "  plt.subplots(figsize=(5, 5))\n",
        "  plt.bar(x=p_array, height=n_possible_probabilities, width= .7 / RESOLUTION, color='k')\n",
        "  plt.xticks(probs);\n",
        "  plt.ylabel(\"probability\")\n",
        "  plt.xlabel(\"proportion water\");\n"
      ],
      "metadata": {
        "id": "XUVZWgXOByiE"
      },
      "execution_count": 89,
      "outputs": []
    },
    {
      "cell_type": "code",
      "source": [
        "l_val = sample_globe_tosses(0.5, 10)\n"
      ],
      "metadata": {
        "id": "2g-lvvev2me1"
      },
      "execution_count": 84,
      "outputs": []
    },
    {
      "cell_type": "code",
      "source": [
        "l_val"
      ],
      "metadata": {
        "colab": {
          "base_uri": "https://localhost:8080/"
        },
        "id": "4N0O1fgX7eJe",
        "outputId": "157d08ca-55d2-41f1-d8df-a208f7608104"
      },
      "execution_count": 85,
      "outputs": [
        {
          "output_type": "execute_result",
          "data": {
            "text/plain": [
              "[0, 1, 1, 1, 0, 0, 0, 1, 1, 0]"
            ]
          },
          "metadata": {},
          "execution_count": 85
        }
      ]
    },
    {
      "cell_type": "markdown",
      "source": [
        "Test on intuitions first, by setting extreme examples\n",
        "\n",
        "so the l_val from the cell above is akin to obs from the earlier functions\n"
      ],
      "metadata": {
        "id": "jLjcVsAn8py1"
      }
    },
    {
      "cell_type": "markdown",
      "source": [
        "EXAMPLE 1: ASSUME THAT ENTIRE GLOBE IS COVERED WITH WATER"
      ],
      "metadata": {
        "id": "sDv57Jt_9qTb"
      }
    },
    {
      "cell_type": "code",
      "source": [
        "#we have\n",
        "p_array = [0,0.25,0.5,0.75,1]\n",
        "\n",
        "#Working with a sample globe completely covered with water\n",
        "\n",
        "obs_1 = sample_globe_tosses(1, 10)"
      ],
      "metadata": {
        "id": "cuXEX3fV8V0b"
      },
      "execution_count": 90,
      "outputs": []
    },
    {
      "cell_type": "code",
      "source": [
        "n_possible_probabilities_1 = p_prob_array(obs_1, p_array)\n",
        "n_possible_probabilities_1"
      ],
      "metadata": {
        "colab": {
          "base_uri": "https://localhost:8080/"
        },
        "id": "ERBaDTdH9R74",
        "outputId": "7bbadb6a-e763-4362-d5d3-cfcca6993902"
      },
      "execution_count": 93,
      "outputs": [
        {
          "output_type": "execute_result",
          "data": {
            "text/plain": [
              "[0, 9.5367431640625e-07, 0.0009765625, 0.056313514709472656, 1]"
            ]
          },
          "metadata": {},
          "execution_count": 93
        }
      ]
    },
    {
      "cell_type": "code",
      "source": [
        "plot_posterior(p_array, n_possible_probabilities_1)"
      ],
      "metadata": {
        "colab": {
          "base_uri": "https://localhost:8080/",
          "height": 465
        },
        "id": "nRQXl-wY86kj",
        "outputId": "63c0f019-f239-4b1a-8d2e-9e6b11285508"
      },
      "execution_count": 94,
      "outputs": [
        {
          "output_type": "display_data",
          "data": {
            "text/plain": [
              "<Figure size 500x500 with 1 Axes>"
            ],
            "image/png": "[encoded data removed]"
          },
          "metadata": {}
        }
      ]
    },
    {
      "cell_type": "markdown",
      "source": [
        "EXAMPLE 2: ASSUME THAT ENTIRE GLOBE IS COVERED WITH LAND"
      ],
      "metadata": {
        "id": "K_xa4GFU9wTW"
      }
    },
    {
      "cell_type": "code",
      "source": [
        "obs_2 = sample_globe_tosses(0, 10)\n",
        "n_possible_probabilities_2 = p_prob_array(obs_2, p_array)\n",
        "n_possible_probabilities_2"
      ],
      "metadata": {
        "colab": {
          "base_uri": "https://localhost:8080/"
        },
        "id": "SeI-_Miw9PN6",
        "outputId": "7f6aa2a4-020d-4e07-93df-bff7638fce15"
      },
      "execution_count": 67,
      "outputs": [
        {
          "output_type": "execute_result",
          "data": {
            "text/plain": [
              "[1, 0.056313514709472656, 0.0009765625, 9.5367431640625e-07, 0]"
            ]
          },
          "metadata": {},
          "execution_count": 67
        }
      ]
    },
    {
      "cell_type": "code",
      "source": [
        "plot_posterior(p_array, n_possible_probabilities_2)"
      ],
      "metadata": {
        "colab": {
          "base_uri": "https://localhost:8080/",
          "height": 465
        },
        "id": "k2yGCkCE98mf",
        "outputId": "7a9d8332-7ef3-43b8-bab0-b469015b93e0"
      },
      "execution_count": 95,
      "outputs": [
        {
          "output_type": "display_data",
          "data": {
            "text/plain": [
              "<Figure size 500x500 with 1 Axes>"
            ],
            "image/png": "[encoded data removed]"
          },
          "metadata": {}
        }
      ]
    },
    {
      "cell_type": "markdown",
      "source": [
        "EXAMPLE 3: ASSUME THAT LAND AND WATER ARE EQUALLY DISTRIBUTED"
      ],
      "metadata": {
        "id": "Sq478KuS_T9R"
      }
    },
    {
      "cell_type": "code",
      "source": [
        "obs_3 = sample_globe_tosses(0.5, 50)\n",
        "n_possible_probabilities_3 = p_prob_array(obs_3, p_array)\n",
        "n_possible_probabilities_3"
      ],
      "metadata": {
        "colab": {
          "base_uri": "https://localhost:8080/"
        },
        "id": "nH-E9miF-AlN",
        "outputId": "17dee7e0-6b47-4829-ea24-02e9e13cfea5"
      },
      "execution_count": 81,
      "outputs": [
        {
          "output_type": "execute_result",
          "data": {
            "text/plain": [
              "[0, 2.2279761980955244e-19, 8.881784197001252e-16, 2.005178578285972e-18, 0]"
            ]
          },
          "metadata": {},
          "execution_count": 81
        }
      ]
    },
    {
      "cell_type": "code",
      "source": [
        "plot_posterior(p_array, n_possible_probabilities_3)"
      ],
      "metadata": {
        "colab": {
          "base_uri": "https://localhost:8080/",
          "height": 480
        },
        "id": "BrSAJNwA-PCo",
        "outputId": "cb86696a-ae67-4441-906a-c446c076460a"
      },
      "execution_count": 96,
      "outputs": [
        {
          "output_type": "display_data",
          "data": {
            "text/plain": [
              "<Figure size 500x500 with 1 Axes>"
            ],
            "image/png": "[encoded data removed]"
          },
          "metadata": {}
        }
      ]
    },
    {
      "cell_type": "code",
      "source": [],
      "metadata": {
        "id": "Fd9rV875-TEe"
      },
      "execution_count": null,
      "outputs": []
    }
  ]
}